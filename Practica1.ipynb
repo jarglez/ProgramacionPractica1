{
 "cells": [
  {
   "cell_type": "markdown",
   "metadata": {},
   "source": [
    "# Práctica 1 \n",
    "\n",
    "Elaboró: Carlos Alejandro Jarero Gonzalez <al255813@alumnos.uacj.mx>\n",
    "\n",
    "Matrícula: 255813\n",
    "\n",
    "## Instrucciones\n",
    "\n"
   ]
  },
  {
   "cell_type": "code",
   "execution_count": null,
   "metadata": {},
   "outputs": [],
   "source": [
    "# imports\n",
    "from pathlib import Path\n",
    "import numpy as np\n",
    "from tabulate import tabulate"
   ]
  },
  {
   "cell_type": "code",
   "execution_count": 38,
   "metadata": {},
   "outputs": [],
   "source": [
    "# Parameters\n",
    "file_path = Path(\"./ClassFiles/mbox.txt\")"
   ]
  },
  {
   "cell_type": "code",
   "execution_count": 41,
   "metadata": {},
   "outputs": [
    {
     "name": "stdout",
     "output_type": "stream",
     "text": [
      "The file mbox.txt was opened.\n",
      "\n",
      "Result          Value\n",
      "--------------  --------------------\n",
      "File name       mbox.txt\n",
      "Elements found  1797\n",
      "Summatory       1606.7481\n",
      "Avarage         0.8941280467445744\n",
      "Variance        0.012322985913435768\n"
     ]
    }
   ],
   "source": [
    "results = {\n",
    "    'file_name': file_path.name,\n",
    "    'elements_found': None,\n",
    "    'summatory': None,\n",
    "    'average': None,\n",
    "    'variance': None\n",
    "}\n",
    "\n",
    "values = []\n",
    "\n",
    "with open(file_path, \"r\") as file:\n",
    "    print(f\"The file {file_path.name} was opened.\\n\")\n",
    "    for line in file:\n",
    "        if line.strip().startswith(\"X-DSPAM-Confidence:\"):\n",
    "            values.append(float(line.split(\":\")[1].strip()))\n",
    "\n",
    "results['elements_found'] = len(values)\n",
    "results['summatory'] = sum(values)\n",
    "results['average'] = np.average(values)\n",
    "results['variance'] = np.var(values)\n",
    "\n",
    "print(tabulate([[\"File name\",results['file_name']]\n",
    "                ,[\"Elements found\",results['elements_found']]\n",
    "                ,[\"Summatory\",results['summatory']]\n",
    "                ,[\"Avarage\",results['average']]\n",
    "                ,[\"Variance\",results['variance']]]\n",
    "                , [\"Result\",\"Value\"]))"
   ]
  }
 ],
 "metadata": {
  "kernelspec": {
   "display_name": "Python 3",
   "language": "python",
   "name": "python3"
  },
  "language_info": {
   "codemirror_mode": {
    "name": "ipython",
    "version": 3
   },
   "file_extension": ".py",
   "mimetype": "text/x-python",
   "name": "python",
   "nbconvert_exporter": "python",
   "pygments_lexer": "ipython3",
   "version": "3.12.7"
  }
 },
 "nbformat": 4,
 "nbformat_minor": 2
}
